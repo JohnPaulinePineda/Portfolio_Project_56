{
 "cells": [
  {
   "cell_type": "markdown",
   "id": "0ec19220-80b8-4fb8-96a9-c3fbe4137ad8",
   "metadata": {},
   "source": [
    "***\n",
    "# Model Deployment : Classifying Brain Tumors from Magnetic Resonance Images by Leveraging Convolutional Neural Network-Based Multilevel Feature Extraction and Hierarchical Representation "
   ]
  },
  {
   "cell_type": "markdown",
   "id": "3a2be127-2e99-4cf2-bc03-df99a74f7a32",
   "metadata": {},
   "source": [
    "***\n",
    "### [**John Pauline Pineda**](https://github.com/JohnPaulinePineda) <br> <br> *November 30, 2024*\n",
    "***"
   ]
  },
  {
   "cell_type": "markdown",
   "id": "e903761d-9127-4510-8b53-2ac964c5a9c8",
   "metadata": {},
   "source": [
    "* [**1. Table of Contents**](#TOC)\n",
    "    * [1.1 Data Background](#1.1)\n",
    "    * [1.2 Data Description](#1.2)\n",
    "    * [1.3 Data Quality Assessment](#1.3)\n",
    "    * [1.4 Data Preprocessing](#1.4)\n",
    "    * [1.5 Data Exploration](#1.5)\n",
    "        * [1.5.1 Exploratory Data Analysis](#1.5.1)\n",
    "        * [1.5.2 Hypothesis Testing](#1.5.2)\n",
    "    * [1.6 Predictive Model Development](#1.6)\n",
    "        * [1.6.1 Pre-Modelling Data Preparation](#1.6.1)\n",
    "        * [1.6.2 Data Splitting](#1.6.2)\n",
    "        * [1.6.3 Convolutional Neural Network Sequential Layer Development](#1.6.3)\n",
    "            * [1.6.3.1 CNN With No Regularization](#1.6.3.1)\n",
    "            * [1.6.3.2 CNN With Dropout Regularization](#1.6.3.2)\n",
    "            * [1.6.3.3 CNN With Batch Normalization Regularization](#1.6.3.3)\n",
    "            * [1.6.3.4 CNN With Dropout and Batch Normalization Regularization](#1.6.3.4)\n",
    "        * [1.6.4 CNN With No Regularization Model Fitting | Hyperparameter Tuning | Validation](#1.6.4)\n",
    "        * [1.6.5 CNN With Dropout Regularization Model Fitting | Hyperparameter Tuning | Validation](#1.6.5)\n",
    "        * [1.6.6 CNN With Batch Normalization Regularization Model Fitting | Hyperparameter Tuning | Validation](#1.6.6)\n",
    "        * [1.6.7 CNN With Dropout and Batch Normalization Regularization Model Fitting | Hyperparameter Tuning | Validation](#1.6.7)\n",
    "        * [1.6.8 Model Selection](#1.6.8)\n",
    "        * [1.6.9 Model Testing](#1.6.9)\n",
    "        * [1.6.10 Model Inference](#1.6.10)\n",
    "    * [1.7 Predictive Model Deployment Using Streamlit and Streamlit Community Cloud](#1.7)\n",
    "        * [1.7.1 Model Application Programming Interface Code Development](#1.7.1)\n",
    "        * [1.7.2 User Interface Application Code Development](#1.7.2)\n",
    "        * [1.7.3 Web Application](#1.7.3)\n",
    "* [**2. Summary**](#Summary)   \n",
    "* [**3. References**](#References)\n",
    "\n",
    "***"
   ]
  },
  {
   "cell_type": "markdown",
   "id": "01bb219a-9428-43cc-aaa4-cd6890315147",
   "metadata": {},
   "source": [
    "# 1. Table of Contents <a class=\"anchor\" id=\"TOC\"></a>"
   ]
  },
  {
   "cell_type": "markdown",
   "id": "7b5e78e9-8045-49b8-84b5-148a223c7ff7",
   "metadata": {},
   "source": [
    "## 1.1 Data Background <a class=\"anchor\" id=\"1.1\"></a>"
   ]
  },
  {
   "cell_type": "markdown",
   "id": "baf57431-97af-4dd8-8d9d-bf22afa6d733",
   "metadata": {},
   "source": [
    "## 1.2 Data Description <a class=\"anchor\" id=\"1.2\"></a>"
   ]
  },
  {
   "cell_type": "code",
   "execution_count": 1,
   "id": "de7d65bd-c852-4774-bdbe-3f70521cb8e5",
   "metadata": {},
   "outputs": [],
   "source": [
    "##################################\n",
    "# Loading Python Libraries\n",
    "##################################\n",
    "\n",
    "##################################\n",
    "# Data Loading, Data Preprocessing\n",
    "# and Exploratory Data Analysis\n",
    "##################################\n",
    "import numpy as np\n",
    "import pandas as pd \n",
    "import seaborn as sns\n",
    "import matplotlib.pyplot as plt\n",
    "import matplotlib.image as mpimg\n",
    "import matplotlib.cm as cm\n",
    "from matplotlib.offsetbox import OffsetImage, AnnotationBbox\n",
    "%matplotlib inline\n",
    "\n",
    "import tensorflow as tf\n",
    "import keras\n",
    "\n",
    "from PIL import Image\n",
    "from glob import glob\n",
    "import cv2\n",
    "import os\n",
    "import random\n",
    "import math\n",
    "\n",
    "##################################\n",
    "# Model Development\n",
    "##################################\n",
    "from keras import backend as K\n",
    "from keras import regularizers\n",
    "from keras.models import Sequential, Model,load_model\n",
    "from keras.layers import Input, Activation, Dense, Dropout, Flatten, Conv2D, MaxPooling2D, MaxPool2D, AveragePooling2D, GlobalMaxPooling2D, BatchNormalization\n",
    "from keras.optimizers import Adam, SGD\n",
    "from keras.callbacks import ReduceLROnPlateau, EarlyStopping, ModelCheckpoint\n",
    "from tensorflow.keras.preprocessing.image import ImageDataGenerator\n",
    "from tensorflow.keras.utils import img_to_array, array_to_img, load_img\n",
    "\n",
    "##################################\n",
    "# Model Evaluation\n",
    "##################################\n",
    "from keras.metrics import PrecisionAtRecall, Recall \n",
    "from sklearn.metrics import confusion_matrix\n",
    "from sklearn.metrics import precision_recall_fscore_support, accuracy_score\n"
   ]
  },
  {
   "cell_type": "code",
   "execution_count": 2,
   "id": "78719c66-65a6-4b82-9a00-4dd995d3bd4a",
   "metadata": {},
   "outputs": [],
   "source": [
    "##################################\n",
    "# Setting random seed options\n",
    "# for the analysis\n",
    "##################################\n",
    "def set_seed(seed=123):\n",
    "    np.random.seed(seed) \n",
    "    tf.random.set_seed(seed) \n",
    "    keras.utils.set_random_seed(seed)\n",
    "    random.seed(seed)\n",
    "    tf.config.experimental.enable_op_determinism()\n",
    "    os.environ['TF_DETERMINISTIC_OPS'] = \"1\"\n",
    "    os.environ['TF_CUDNN_DETERMINISM'] = \"1\"\n",
    "    os.environ['PYTHONHASHSEED'] = str(seed)\n",
    "set_seed()"
   ]
  },
  {
   "cell_type": "code",
   "execution_count": 3,
   "id": "b8f41aa3-9dfc-4c1c-af1e-1bd5d1f3d7d6",
   "metadata": {},
   "outputs": [],
   "source": [
    "##################################\n",
    "# Filtering out unncessary warnings\n",
    "##################################\n",
    "import warnings\n",
    "warnings.filterwarnings('ignore')"
   ]
  },
  {
   "cell_type": "code",
   "execution_count": 4,
   "id": "b2f4085d-6b34-4f47-82a5-2545e8320f5a",
   "metadata": {},
   "outputs": [],
   "source": [
    "##################################\n",
    "# Defining file paths\n",
    "##################################\n",
    "DATASETS_ORIGINAL_PATH = r\"datasets\\Brain_Tumor_MRI_Dataset\"\n",
    "DATASETS_FINAL_TRAIN_PATH = r\"datasets\\Brain_Tumor_MRI_Dataset\\Training\"\n",
    "DATASETS_FINAL_TEST_PATH = r\"datasets\\Brain_Tumor_MRI_Dataset\\Testing\"\n",
    "MODELS_PATH = r\"models\"\n",
    "PARAMETERS_PATH = r\"parameters\"\n",
    "PIPELINES_PATH = r\"pipelines\"\n"
   ]
  },
  {
   "cell_type": "markdown",
   "id": "286c683f-e69d-412d-8c6d-a786c9967f77",
   "metadata": {},
   "source": [
    "## 1.3 Data Quality Assessment <a class=\"anchor\" id=\"1.3\"></a>"
   ]
  },
  {
   "cell_type": "markdown",
   "id": "89e0044f-578d-46cb-8f5f-61e1d9b3b6e0",
   "metadata": {},
   "source": [
    "## 1.4 Data Preprocessing <a class=\"anchor\" id=\"1.4\"></a>"
   ]
  },
  {
   "cell_type": "markdown",
   "id": "9cdddf5f-a37e-4e5a-8eee-32afe754e2b3",
   "metadata": {},
   "source": [
    "## 1.5 Data Exploration <a class=\"anchor\" id=\"1.5\"></a>"
   ]
  },
  {
   "cell_type": "markdown",
   "id": "a51301c1-9fc9-4883-9af6-3c9ff8b2883b",
   "metadata": {},
   "source": [
    "### 1.5.1 Exploratory Data Analysis <a class=\"anchor\" id=\"1.5.1\"></a>"
   ]
  },
  {
   "cell_type": "markdown",
   "id": "eb673cdd-11a6-44a1-b9fc-f5a72decafb5",
   "metadata": {},
   "source": [
    "### 1.5.2 Hypothesis Testing <a class=\"anchor\" id=\"1.5.2\"></a>"
   ]
  },
  {
   "cell_type": "markdown",
   "id": "c53312a4-dd22-4575-bd20-f5aa8da7c68a",
   "metadata": {},
   "source": [
    "## 1.6 Predictive Model Development <a class=\"anchor\" id=\"1.6\"></a>"
   ]
  },
  {
   "cell_type": "markdown",
   "id": "60017bab-b95d-4e9e-b3fa-19e6fc235dcc",
   "metadata": {},
   "source": [
    "### 1.6.1 Pre-Modelling Data Preparation <a class=\"anchor\" id=\"1.6.1\"></a>"
   ]
  },
  {
   "cell_type": "markdown",
   "id": "755ade24-fba5-465d-b25e-149e7198dec7",
   "metadata": {},
   "source": [
    "### 1.6.2 Data Splitting <a class=\"anchor\" id=\"1.6.2\"></a>"
   ]
  },
  {
   "cell_type": "markdown",
   "id": "c66e97a6-4ed3-42fd-b096-e4aae8c337c4",
   "metadata": {},
   "source": [
    "### 1.6.3 Convolutional Neural Network Sequential Layer Development <a class=\"anchor\" id=\"1.6.3\"></a>"
   ]
  },
  {
   "cell_type": "markdown",
   "id": "27c9d582-6200-4a47-bf7c-1fa20d17f7c5",
   "metadata": {},
   "source": [
    "#### 1.6.3.1 CNN With No Regularization <a class=\"anchor\" id=\"1.6.3.1\"></a>"
   ]
  },
  {
   "cell_type": "markdown",
   "id": "78215795-fa77-42d2-8c21-6c96d186ede8",
   "metadata": {},
   "source": [
    "#### 1.6.3.2 CNN With Dropout Regularization <a class=\"anchor\" id=\"1.6.3.2\"></a>"
   ]
  },
  {
   "cell_type": "markdown",
   "id": "6cb20a2f-1d6e-4b08-a543-018e406d2f4d",
   "metadata": {},
   "source": [
    "#### 1.6.3.3 CNN With Batch Normalization Regularization <a class=\"anchor\" id=\"1.6.3.3\"></a>"
   ]
  },
  {
   "cell_type": "markdown",
   "id": "946eb730-979f-4725-bedb-4b6e7ca825f6",
   "metadata": {},
   "source": [
    "#### 1.6.3.4 CNN With Dropout and Batch Normalization Regularization <a class=\"anchor\" id=\"1.6.3.4\"></a>"
   ]
  },
  {
   "cell_type": "markdown",
   "id": "6475d123-c7aa-4d1c-a896-ce64920e44aa",
   "metadata": {},
   "source": [
    "### 1.6.4 CNN With No Regularization Model Fitting | Hyperparameter Tuning | Validation <a class=\"anchor\" id=\"1.6.4\"></a>"
   ]
  },
  {
   "cell_type": "markdown",
   "id": "f5114dd6-e046-4fa0-939c-c3668cf55675",
   "metadata": {},
   "source": [
    "### 1.6.5 CNN With Dropout Regularization Model Fitting | Hyperparameter Tuning | Validation <a class=\"anchor\" id=\"1.6.5\"></a>"
   ]
  },
  {
   "cell_type": "markdown",
   "id": "c0676583-5c2a-4289-ad6e-655254e8c676",
   "metadata": {},
   "source": [
    "### 1.6.6 CNN With Batch Normalization Regularization Model Fitting | Hyperparameter Tuning | Validation <a class=\"anchor\" id=\"1.6.6\"></a>"
   ]
  },
  {
   "cell_type": "markdown",
   "id": "68ffe5d8-0d29-4814-9603-ac07848569d4",
   "metadata": {},
   "source": [
    "### 1.6.7 CNN With Dropout and Batch Normalization Regularization Model Fitting | Hyperparameter Tuning | Validation <a class=\"anchor\" id=\"1.6.7\"></a>"
   ]
  },
  {
   "cell_type": "markdown",
   "id": "591c2558-ffde-4777-994a-eb892f0059ee",
   "metadata": {},
   "source": [
    "### 1.6.8 Model Selection <a class=\"anchor\" id=\"1.6.8\"></a>"
   ]
  },
  {
   "cell_type": "markdown",
   "id": "57395748-500f-40b8-817a-8750df7ef385",
   "metadata": {},
   "source": [
    "### 1.6.9 Model Testing <a class=\"anchor\" id=\"1.6.9\"></a>"
   ]
  },
  {
   "cell_type": "markdown",
   "id": "8b69e8a4-2457-4993-9fdd-04bdc1be0a1c",
   "metadata": {},
   "source": [
    "### 1.6.10 Model Inference <a class=\"anchor\" id=\"1.6.10\"></a>"
   ]
  },
  {
   "cell_type": "markdown",
   "id": "43323d85-d288-4704-bf08-a9c4398284bc",
   "metadata": {},
   "source": [
    "## 1.7 Predictive Model Development <a class=\"anchor\" id=\"1.7\"></a>"
   ]
  },
  {
   "cell_type": "markdown",
   "id": "2bf88eb4-c16b-4a79-9b9f-cfd576b0986d",
   "metadata": {},
   "source": [
    "### 1.7.1 Model Application Programming Interface Code Development <a class=\"anchor\" id=\"1.7.1\"></a>"
   ]
  },
  {
   "cell_type": "markdown",
   "id": "2ba5e85d-2c38-4953-a671-19165cd79876",
   "metadata": {},
   "source": [
    "### 1.7.2 User Interface Application Code Development <a class=\"anchor\" id=\"1.7.2\"></a>"
   ]
  },
  {
   "cell_type": "markdown",
   "id": "fa0a8673-f270-4a71-ae8a-df83d0ede8b0",
   "metadata": {},
   "source": [
    "### 1.7.3 Web Application <a class=\"anchor\" id=\"1.7.3\"></a>"
   ]
  },
  {
   "cell_type": "markdown",
   "id": "41cd3e8e-59e9-407d-b0b8-945249247fcf",
   "metadata": {},
   "source": [
    "# 2. Summary <a class=\"anchor\" id=\"Summary\"></a>"
   ]
  },
  {
   "cell_type": "markdown",
   "id": "9a12d374-70bc-4fe0-b566-be3f7bf512d8",
   "metadata": {},
   "source": [
    "# 3. References <a class=\"anchor\" id=\"References\"></a>\n",
    "* **[Book]** [Deep Learning with Python](https://www.manning.com/books/deep-learning-with-python) by Francois Chollet\n",
    "* **[Book]** [Deep Learning: A Visual Approach](https://nostarch.com/deep-learning-visual-approach) by Andrew Glassner\n",
    "* **[Book]** [Learning Deep Learning](https://ldlbook.com/) by Magnus Ekman\n",
    "* **[Book]** [Practical Deep Learning](https://nostarch.com/practical-deep-learning-python) by Ronald Kneusel\n",
    "* **[Book]** [Deep Learning with Tensorflow and Keras](https://www.packtpub.com/product/deep-learning-with-tensorflow-and-keras-third-edition/9781803232911) by Amita Kapoor, Antonio Gulli and Sujit Pal\n",
    "* **[Book]** [Deep Learning](https://mitpress.mit.edu/9780262537551/deep-learning/) by John Kelleher\n",
    "* **[Book]** [Generative Deep Learning](https://www.oreilly.com/library/view/generative-deep-learning/9781098134174/) by David Foster\n",
    "* **[Book]** [Deep Learning Illustrated](https://www.deeplearningillustrated.com/) by John Krohn, Grant Beyleveld and Aglae Bassens\n",
    "* **[Book]** [Neural Networks and Deep Learning](https://link.springer.com/book/10.1007/978-3-319-94463-0) by Charu Aggarwal\n",
    "* **[Book]** [Grokking Deep Learning](https://www.manning.com/books/grokking-deep-learning) by Andrew Trask\n",
    "* **[Book]** [Deep Learning with Pytorch](https://www.manning.com/books/deep-learning-with-pytorch) by Eli Stevens, Luca Antiga and Thomas Viehmann\n",
    "* **[Book]** [Deep Learning](https://www.deeplearningbook.org/) by Ian Goodfellow, Yoshua Bengio and Aaron Courville\n",
    "* **[Book]** [Deep Learning from Scratch](https://www.oreilly.com/library/view/deep-learning-from/9781492041405/) by Seth Weidman\n",
    "* **[Book]** [Fundamentals of Deep Learning](https://www.oreilly.com/library/view/fundamentals-of-deep/9781492082170/) by Nithin Buduma, Nikhil Buduma and Joe Papa\n",
    "* **[Book]** [Hands-On Machine Learning with Scikit-Learn, Keras and Tensorflow](https://www.oreilly.com/library/view/hands-on-machine-learning/9781492032632/) by Aurelien Geron\n",
    "* **[Book]** [Deep Learning for Computer Vision](https://machinelearningmastery.com/deep-learning-for-computer-vision/) by Jason Brownlee\n",
    "* **[Python Library API]** [numpy](https://numpy.org/doc/) by NumPy Team\n",
    "* **[Python Library API]** [pandas](https://pandas.pydata.org/docs/) by Pandas Team\n",
    "* **[Python Library API]** [seaborn](https://seaborn.pydata.org/) by Seaborn Team\n",
    "* **[Python Library API]** [matplotlib.pyplot](https://matplotlib.org/3.5.3/api/_as_gen/matplotlib.pyplot.html) by MatPlotLib Team\n",
    "* **[Python Library API]** [matplotlib.image](https://matplotlib.org/stable/api/image_api.html) by MatPlotLib Team\n",
    "* **[Python Library API]** [matplotlib.offsetbox](https://matplotlib.org/stable/api/offsetbox_api.html) by MatPlotLib Team\n",
    "* **[Python Library API]** [tensorflow](https://pypi.org/project/tensorflow/) by TensorFlow Team\n",
    "* **[Python Library API]** [keras](https://pypi.org/project/keras/) by Keras Team\n",
    "* **[Python Library API]** [pil](https://pypi.org/project/Pillow/) by Pillow Team\n",
    "* **[Python Library API]** [glob](https://docs.python.org/3/library/glob.html) by glob Team\n",
    "* **[Python Library API]** [cv2](https://pypi.org/project/opencv-python/) by OpenCV Team\n",
    "* **[Python Library API]** [os](https://docs.python.org/3/library/os.html) by os Team\n",
    "* **[Python Library API]** [random](https://docs.python.org/3/library/random.html) by random Team\n",
    "* **[Python Library API]** [keras.models](https://www.tensorflow.org/api_docs/python/tf/keras/models) by TensorFlow Team\n",
    "* **[Python Library API]** [keras.layers](https://www.tensorflow.org/api_docs/python/tf/keras/layers) by TensorFlow Team\n",
    "* **[Python Library API]** [keras.wrappers](https://www.tensorflow.org/api_docs/python/tf/keras/layers/Wrapper) by TensorFlow Team\n",
    "* **[Python Library API]** [keras.utils](https://www.tensorflow.org/api_docs/python/tf/keras/utils) by TensorFlow Team\n",
    "* **[Python Library API]** [keras.optimizers](https://www.tensorflow.org/api_docs/python/tf/keras/optimizers) by TensorFlow Team\n",
    "* **[Python Library API]** [keras.preprocessing.image](https://www.tensorflow.org/api_docs/python/tf/keras/preprocessing/image) by TensorFlow Team\n",
    "* **[Python Library API]** [keras.callbacks](https://www.tensorflow.org/api_docs/python/tf/keras/callbacks) by TensorFlow Team\n",
    "* **[Python Library API]** [keras.metrics](https://www.tensorflow.org/api_docs/python/tf/keras/metrics) by TensorFlow Team\n",
    "* **[Python Library API]** [sklearn.metrics](https://scikit-learn.org/stable/modules/model_evaluation.html) by Scikit-Learn Team\n",
    "* **[Article]** [Convolutional Neural Networks, Explained](https://towardsdatascience.com/convolutional-neural-networks-explained-9cc5188c4939) by Mayank Mishra (Towards Data Science)\n",
    "* **[Article]** [A Comprehensive Guide to Convolutional Neural Networks — the ELI5 way](https://towardsdatascience.com/a-comprehensive-guide-to-convolutional-neural-networks-the-eli5-way-3bd2b1164a53) by Sumit Saha (Towards Data Science)\n",
    "* **[Article]** [Understanding Convolutional Neural Networks: A Beginner’s Journey into the Architecture](https://medium.com/codex/understanding-convolutional-neural-networks-a-beginners-journey-into-the-architecture-aab30dface10) by Afaque Umer (Medium)\n",
    "* **[Article]** [Introduction to Convolutional Neural Networks (CNN)](https://www.analyticsvidhya.com/blog/2021/05/convolutional-neural-networks-cnn/) by Manav Mandal (Analytics Vidhya)\n",
    "* **[Article]** [What Are Convolutional Neural Networks?](https://www.ibm.com/topics/convolutional-neural-networks) by IBM Team (IBM)\n",
    "* **[Article]** [What is CNN? A 5 Year Old guide to Convolutional Neural Network](https://medium.com/analytics-vidhya/what-is-cnn-a-5-year-old-guide-to-convolutional-neural-network-c9d0338c3bf7) by William Ong (Medium)\n",
    "* **[Article]** [Convolutional Neural Network](https://deepai.org/machine-learning-glossary-and-terms/convolutional-neural-network) by Thomas Wood (DeepAI.Org)\n",
    "* **[Article]** [How Do Convolutional Layers Work in Deep Learning Neural Networks?](https://machinelearningmastery.com/convolutional-layers-for-deep-learning-neural-networks/) by Jason Brownlee (Machine Learning Mastery)\n",
    "* **[Article]** [Convolutional Neural Networks Explained: Using PyTorch to Understand CNNs](https://builtin.com/data-science/convolutional-neural-networks-explained) by Vihar Kurama (BuiltIn)\n",
    "* **[Article]** [Convolutional Neural Networks Cheatsheet](https://stanford.edu/~shervine/teaching/cs-230/cheatsheet-convolutional-neural-networks) by Afshine Amidi and Shervine Amidi (Stanford University)\n",
    "* **[Article]** [An Intuitive Explanation of Convolutional Neural Networks](https://ujjwalkarn.me/2016/08/11/intuitive-explanation-convnets/) by Ujjwal Karn (The Data Science Blog)\n",
    "* **[Article]** [Convolutional Neural Network](https://www.nvidia.com/en-us/glossary/data-science/convolutional-neural-network/) by NVIDIA Team (NVIDIA)\n",
    "* **[Article]** [Convolutional Neural Networks (CNN) Overview](https://encord.com/blog/convolutional-neural-networks-explained/) by Nikolaj Buhl (Encord)\n",
    "* **[Article]** [Understanding Convolutional Neural Network (CNN): A Complete Guide](https://learnopencv.com/understanding-convolutional-neural-networks-cnn/) by LearnOpenCV Team (LearnOpenCV)\n",
    "* **[Article]** [Convolutional Neural Networks (CNNs) and Layer Types](https://pyimagesearch.com/2021/05/14/convolutional-neural-networks-cnns-and-layer-types/) by Adrian Rosebrock (PyImageSearch)\n",
    "* **[Article]** [How Convolutional Neural Networks See The World](https://blog.keras.io/how-convolutional-neural-networks-see-the-world.html) by Francois Chollet (The Keras Blog)\n",
    "* **[Article]** [What Is a Convolutional Neural Network?](https://www.mathworks.com/discovery/convolutional-neural-network-matlab.html#:~:text=A%20convolutional%20neural%20network%20(CNN,%2Dseries%2C%20and%20signal%20data.) by MathWorks Team (MathWorks)\n",
    "* **[Article]** [Grad-CAM Class Activation Visualization](https://keras.io/examples/vision/grad_cam/) by Francois Chollet (Keras.IO)\n",
    "* **[Article]** [Grad-CAM: Visualize Class Activation Maps with Keras, TensorFlow, and Deep Learning](https://pyimagesearch.com/2020/03/09/grad-cam-visualize-class-activation-maps-with-keras-tensorflow-and-deep-learning/) by Adrian Rosebrock (PyImageSearch)\n",
    "* **[Kaggle Project]** [Covid 19 Radiography Data - EDA and CNN Model](https://www.kaggle.com/code/jnegrini/covid-19-radiography-data-eda-and-cnn-model) by Juliana Negrini De Araujo (Kaggle)\n",
    "* **[Kaggle Project]** [Pneumonia Detection using CNN (92.6% Accuracy)](https://www.kaggle.com/code/madz2000/pneumonia-detection-using-cnn-92-6-accuracy) by Madhav Mathur (Kaggle)\n",
    "* **[Kaggle Project]** [COVID Detection from CXR Using Explainable CNN](https://www.kaggle.com/code/sid321axn/covid-detection-from-cxr-using-explainable-cnn) by Manu Siddhartha (Kaggle)\n",
    "* **[Kaggle Project]** [Class Activation Mapping for COVID-19 CNN](https://www.kaggle.com/code/amyjang/class-activation-mapping-for-covid-19-cnn) by Amy Zhang (Kaggle)\n",
    "* **[Kaggle Project]** [CNN XRay COVID Classification](https://www.kaggle.com/code/gabrielmino/cnn-xray-covid-classification) by Gabriel Mino (Kaggle)\n",
    "* **[Kaggle Project]** [Detecting-Covid-19-Images | CNN](https://www.kaggle.com/code/felipeoliveiraml/detecting-covid-19-images-cnn) by Felipe Oliveira (Kaggle)\n",
    "* **[Kaggle Project]** [Detection of Covid Positive Cases using DL](https://www.kaggle.com/code/sana306/detection-of-covid-positive-cases-using-dl) by Sana Shaikh (Kaggle)\n",
    "* **[Kaggle Project]** [Deep Learning and Transfer Learning on COVID-19](https://www.kaggle.com/code/digvijayyadav/deep-learning-and-transfer-learning-on-covid-19) by Digvijay Yadav (Kaggle)\n",
    "* **[Kaggle Project]** [X-ray Detecting Using CNN](https://www.kaggle.com/code/shivan118/x-ray-detecting-using-cnn) by Shivan Kumar (Kaggle)\n",
    "* **[Kaggle Project]** [Classification of COVID-19 using CNN](https://www.kaggle.com/code/islamselim/classification-of-covid-19-using-cnn) by Islam Selim (Kaggle)\n",
    "* **[Kaggle Project]** [COVID-19 - Revisiting Pneumonia Detection](https://www.kaggle.com/code/pcbreviglieri/covid-19-revisiting-pneumonia-detection) by Paulo Breviglieri (Kaggle)\n",
    "* **[Kaggle Project]** [Multi-Class X-ray Covid19 Classification-94% Accurary](https://www.kaggle.com/code/derrelldsouza/multi-class-x-ray-covid19-classification-94-acc) by Quadeer Shaikh (Kaggle)\n",
    "* **[Kaggle Project]** [Grad-CAM: What Do CNNs See?](https://www.kaggle.com/code/quadeer15sh/grad-cam-what-do-cnns-see) by Derrel Souza (Kaggle)\n",
    "* **[GitHub Project]** [Grad-CAM](https://github.com/ismailuddin/gradcam-tensorflow-2/blob/master/notebooks/GradCam.ipynb) by Ismail Uddin (GitHub)\n",
    "* **[Publication]** [Gradient-Based Learning Applied to Document Recognition](https://ieeexplore.ieee.org/document/726791) by Yann LeCun, Leon Bottou, Yoshua Bengio and Patrick Haffner (Proceedings of the IEEE)\n",
    "* **[Publication]** [Learning Deep Features for Discriminative Localization](https://arxiv.org/abs/1512.04150) by Bolei Zhou, Aditya Khosla, Agata Lapedriza, Aude Oliva and Antonio Torralba (Computer Vision and Pattern Recognition)\n",
    "* **[Publication]** [Grad-CAM: Visual Explanations from Deep Networks via Gradient-based Localization](https://arxiv.org/abs/1610.02391) by Ramprasaath Selvaraju, Michael Cogswell, Abhishek Das, Ramakrishna Vedantam, Devi Parikh and Dhruv Batra (Computer Vision and Pattern Recognition)\n",
    "* **[Course]** [IBM Data Analyst Professional Certificate](https://www.coursera.org/professional-certificates/ibm-data-analyst) by IBM Team (Coursera)\n",
    "* **[Course]** [IBM Data Science Professional Certificate](https://www.coursera.org/professional-certificates/ibm-data-science) by IBM Team (Coursera)\n",
    "* **[Course]** [IBM Machine Learning Professional Certificate](https://www.coursera.org/professional-certificates/ibm-machine-learning) by IBM Team (Coursera)"
   ]
  },
  {
   "cell_type": "code",
   "execution_count": 5,
   "id": "2ed793b7-bb2d-4921-b0ea-13b72c0a3d7e",
   "metadata": {},
   "outputs": [
    {
     "data": {
      "text/html": [
       "<style>.rendered_html { font-size: 15px; font-family: 'Trebuchet MS'; }</style>"
      ],
      "text/plain": [
       "<IPython.core.display.HTML object>"
      ]
     },
     "metadata": {},
     "output_type": "display_data"
    }
   ],
   "source": [
    "from IPython.display import display, HTML\n",
    "display(HTML(\"<style>.rendered_html { font-size: 15px; font-family: 'Trebuchet MS'; }</style>\"))"
   ]
  }
 ],
 "metadata": {
  "kernelspec": {
   "display_name": "Python 3 (ipykernel)",
   "language": "python",
   "name": "python3"
  },
  "language_info": {
   "codemirror_mode": {
    "name": "ipython",
    "version": 3
   },
   "file_extension": ".py",
   "mimetype": "text/x-python",
   "name": "python",
   "nbconvert_exporter": "python",
   "pygments_lexer": "ipython3",
   "version": "3.12.5"
  }
 },
 "nbformat": 4,
 "nbformat_minor": 5
}
